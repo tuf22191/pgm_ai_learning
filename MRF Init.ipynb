{
 "cells": [
  {
   "cell_type": "code",
   "execution_count": 21,
   "metadata": {},
   "outputs": [
    {
     "data": {
      "text/plain": [
       "(3L, 3L)"
      ]
     },
     "execution_count": 21,
     "metadata": {},
     "output_type": "execute_result"
    }
   ],
   "source": [
    "import numpy as np\n",
    "\n",
    "\n",
    "#low medium high\n",
    "# microsoft_apple = np.zeros((3,3)) \n",
    "# microsoft_amazon = np.zeros((3,3)) \n",
    "# apple_amazon = np.zeros((3,3)) \n",
    "# hanes_amazon = np.zeros((3,3)) \n",
    "# nike_hanes = np.zeros((3,3)) \n",
    "\n",
    "# 3^5 -> giant table (a,b,c)x(d,e) = (a,d),(a,e),...\n",
    "#rigged parameters\n",
    "microsoft_apple = np.array([[1,2,3],[0,100, 50],[34, 78, 1000]])\n",
    "microsoft_amazon =np.array([[10,22,50],[2220,109, 50],[4, 8, 60]])\n",
    "apple_amazon = np.array([[122,357,5],[17,99, 1001],[45, 7, 82]])\n",
    "\n",
    "\n",
    "hanes_amazon =  np.array([[154,297,48],[80,73, 4699],[8004, 913, 468]])\n",
    "nike_hanes =  np.array([[21,4,8995],[107,99, 974],[69000, 942, 62]])\n",
    "\n",
    "apple_amazon.shape\n"
   ]
  },
  {
   "cell_type": "code",
   "execution_count": 23,
   "metadata": {},
   "outputs": [],
   "source": [
    "#itertools test\n",
    "# https://stackoverflow.com/questions/14931769/\n",
    "#how-to-get-all-combination-of-n-binary-value\n",
    "import itertools\n",
    "n= 3\n",
    "lst = list(itertools.product([0, 1, 2], repeat=n))\n",
    "# lst composed of (Microsoft, Apple, Amazon) respectively \n",
    "\n",
    "clique = np.arange(27).reshape((3,3,3))\n",
    "#print(len(lst))\n",
    "for tuple_ in lst:\n",
    "\n",
    "    apple_amazon[0][0]\n",
    "    micro_apple = microsoft_apple[tuple_[0], tuple_[1]]\n",
    "    micro_amazon =  microsoft_amazon[tuple_[0], tuple_[2]]    \n",
    "    app_amazon = apple_amazon[tuple_[1], tuple_[2]]\n",
    "    \n",
    "    clique[tuple_[0], tuple_[1], tuple_[2]] = micro_apple*micro_amazon*app_amazon"
   ]
  },
  {
   "cell_type": "code",
   "execution_count": 24,
   "metadata": {},
   "outputs": [
    {
     "data": {
      "text/plain": [
       "array([[[   1220,    7854,     250],\n",
       "        [    340,    4356,  100100],\n",
       "        [   1350,     462,   12300]],\n",
       "\n",
       "       [[      0,       0,       0],\n",
       "        [3774000, 1079100, 5005000],\n",
       "        [4995000,   38150,  205000]],\n",
       "\n",
       "       [[  16592,   97104,   10200],\n",
       "        [   5304,   61776, 4684680],\n",
       "        [ 180000,   56000, 4920000]]])"
      ]
     },
     "execution_count": 24,
     "metadata": {},
     "output_type": "execute_result"
    }
   ],
   "source": [
    "#clique = np.arange(27).reshape((3,3,3))\n",
    "clique  # highest dimension -> Microsoft 462"
   ]
  },
  {
   "cell_type": "code",
   "execution_count": 26,
   "metadata": {},
   "outputs": [
    {
     "name": "stderr",
     "output_type": "stream",
     "text": [
      "[NbConvertApp] Converting notebook MRF Init.ipynb to script\n",
      "[NbConvertApp] Writing 1502 bytes to MRF Init.py\n"
     ]
    }
   ],
   "source": [
    "# message passing algorithm \n",
    "#nike -> hanes\n",
    "\n",
    "#clique -> hanes\n",
    "\n",
    "#hanes -> clique\n",
    "\n",
    "#hanes -> nike \n"
   ]
  },
  {
   "cell_type": "code",
   "execution_count": null,
   "metadata": {
    "collapsed": true
   },
   "outputs": [],
   "source": [
    "# converting to .py file https://stackoverflow.com/questions/17077494/how-do-i-convert-a-ipython-notebook-into-a-python-file-via-commandline\n",
    "#!jupyter nbconvert --to script \"MRF Init.ipynb\""
   ]
  }
 ],
 "metadata": {
  "kernelspec": {
   "display_name": "Python 2",
   "language": "python",
   "name": "python2"
  },
  "language_info": {
   "codemirror_mode": {
    "name": "ipython",
    "version": 2
   },
   "file_extension": ".py",
   "mimetype": "text/x-python",
   "name": "python",
   "nbconvert_exporter": "python",
   "pygments_lexer": "ipython2",
   "version": "2.7.14"
  }
 },
 "nbformat": 4,
 "nbformat_minor": 2
}
